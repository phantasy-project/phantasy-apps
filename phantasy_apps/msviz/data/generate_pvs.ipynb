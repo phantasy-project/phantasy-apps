{
 "cells": [
  {
   "cell_type": "code",
   "execution_count": 5,
   "metadata": {},
   "outputs": [],
   "source": [
    "import sys\n",
    "from phantasy import MachinePortal"
   ]
  },
  {
   "cell_type": "code",
   "execution_count": 6,
   "metadata": {},
   "outputs": [
    {
     "name": "stderr",
     "output_type": "stream",
     "text": [
      "[16:50:07.463] INFO: phantasy.library.operation.core: Load new machine: 'FRIB', segment: 'LINAC'\n",
      "[16:50:07.465] INFO: phantasy.library.parser.config: Importing FRIB from /user/zhangt/development/phantasy-machines/FRIB\n",
      "[16:50:07.468] INFO: phantasy.library.parser.config: Loading machine configuration from /user/zhangt/development/phantasy-machines/FRIB/phantasy.ini\n",
      "[16:50:07.470] INFO: phantasy.library.operation.lattice: Loading segment: 'LINAC'\n",
      "[16:50:07.584] INFO: phantasy.library.operation.lattice: UNICORN policy will be loaded from /user/zhangt/development/phantasy-machines/unicorn/unicorn-data.xls.\n",
      "[16:50:07.586] INFO: phantasy.library.operation.lattice: Device polarity data is loaded from /user/zhangt/development/phantasy-machines/polarity/polarity_data.csv.\n",
      "[16:50:07.587] INFO: phantasy.library.operation.lattice: Loading PV data from CSV/SQLite: /user/zhangt/development/phantasy-machines/FRIB/linac/all_channels.csv\n",
      "[16:50:07.588] INFO: phantasy.library.pv.datasource: Set source to be CSV table: all_channels.csv.\n",
      "[16:50:07.892] INFO: phantasy.library.operation.lattice: Model data directory: /user/zhangt/phantasy_data/20210507/model_data/data_165007\n",
      "[16:50:07.966] INFO: phantasy.library.operation.lattice: Found 9011 PVs in 'LINAC'.\n",
      "[16:50:09.955] INFO: phantasy.library.operation.lattice: 'LINAC' has 1108 elements\n"
     ]
    }
   ],
   "source": [
    "mach, segm = \"FRIB_VA\", \"LS1FS1\"\n",
    "mach, segm = \"FRIB\", \"LINAC\"\n",
    "\n",
    "mp = MachinePortal(mach, segm)"
   ]
  },
  {
   "cell_type": "code",
   "execution_count": 7,
   "metadata": {},
   "outputs": [],
   "source": [
    "def printout_data(group_tuple, pvlist_tuple, out=None):\n",
    "    if out is None:\n",
    "        fp = None\n",
    "    else:\n",
    "        fp = open(out, \"w\")\n",
    "    for (g, l) in zip(group_tuple, pvlist_tuple):\n",
    "        print(f\"[{g}]\", file=fp)\n",
    "        print(\"names = [\", file=fp)\n",
    "        for i in l:\n",
    "            print(f\"'{i}',\", file=fp)\n",
    "        print(\"]\", file=fp)\n",
    "    if fp is not None:\n",
    "        fp.close()"
   ]
  },
  {
   "cell_type": "markdown",
   "metadata": {},
   "source": [
    "# BPM"
   ]
  },
  {
   "cell_type": "code",
   "execution_count": 9,
   "metadata": {},
   "outputs": [],
   "source": [
    "bpms = mp.get_elements(type='BPM')\n",
    "\n",
    "pv_list_x = []\n",
    "pv_list_y = []\n",
    "pv_list_pha = []\n",
    "pv_list_mag = []\n",
    "for i in bpms:\n",
    "    pv_list_x.append(i.pv(field='X')[0])\n",
    "    pv_list_y.append(i.pv(field='Y')[0])\n",
    "    pv_list_pha.append(i.pv(field='PHA')[0])\n",
    "    # VA only\n",
    "    # pv_list_eng.append(i.pv(field='ENG')[0])\n",
    "    pv_list_mag.append(i.pv(field='MAG')[0])\n",
    "\n",
    "outfile = 'bpm.toml'\n",
    "printout_data((\"BPM-X\", \"BPM-Y\", \"BPM-PHA\", \"BPM-MAG\"),\n",
    "              (pv_list_x, pv_list_y, pv_list_pha, pv_list_mag), out=outfile)\n"
   ]
  },
  {
   "cell_type": "markdown",
   "metadata": {},
   "source": [
    "# BCM"
   ]
  },
  {
   "cell_type": "code",
   "execution_count": 11,
   "metadata": {},
   "outputs": [],
   "source": [
    "bcms = mp.get_elements(type='BCM')\n",
    "\n",
    "pv_list_avg = []\n",
    "pv_list_pkavg = []\n",
    "for i in bcms:\n",
    "    pv_list_avg.append(i.pv(field='I_AVG')[0])\n",
    "    pv_list_pkavg.append(i.pv(field='I_PKAVG')[0])\n",
    "\n",
    "outfile = 'bcm.toml'\n",
    "printout_data((\"BCM-AVG\", \"BCM-PKAVG\"),\n",
    "              (pv_list_avg, pv_list_pkavg), out=outfile)"
   ]
  },
  {
   "cell_type": "markdown",
   "metadata": {},
   "source": [
    "# FC"
   ]
  },
  {
   "cell_type": "code",
   "execution_count": 12,
   "metadata": {},
   "outputs": [],
   "source": [
    "fcs = mp.get_elements(type='FC')\n",
    "\n",
    "pv_list_fcavg = []\n",
    "pv_list_fcpkavg = []\n",
    "pv_list_fcstso = []\n",
    "pv_list_fcstsi = []\n",
    "for i in fcs:\n",
    "    pv_list_fcavg.append(i.pv(field='I_AVG')[0])\n",
    "    pv_list_fcpkavg.append(i.pv(field='I_PKAVG')[0])\n",
    "    pv_list_fcstso.append(f\"{i.name}:LMPOS_RSTS_DRV\")\n",
    "    pv_list_fcstsi.append(f\"{i.name}:LMNEG_RSTS_DRV\")\n",
    "    \n",
    "outfile = 'fc.toml'\n",
    "printout_data((\"FC-AVG\", \"FC-PKAVG\", \"FC-STS-IN\", \"FC-STS-OUT\"),\n",
    "              (pv_list_fcavg, pv_list_fcpkavg, pv_list_fcstsi, pv_list_fcstso), out=outfile)"
   ]
  },
  {
   "cell_type": "code",
   "execution_count": null,
   "metadata": {},
   "outputs": [],
   "source": []
  }
 ],
 "metadata": {
  "kernelspec": {
   "display_name": "Python 3",
   "language": "python",
   "name": "python3"
  },
  "language_info": {
   "codemirror_mode": {
    "name": "ipython",
    "version": 3
   },
   "file_extension": ".py",
   "mimetype": "text/x-python",
   "name": "python",
   "nbconvert_exporter": "python",
   "pygments_lexer": "ipython3",
   "version": "3.7.3"
  }
 },
 "nbformat": 4,
 "nbformat_minor": 2
}
