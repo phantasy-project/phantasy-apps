{
 "cells": [
  {
   "cell_type": "markdown",
   "metadata": {},
   "source": [
    "### Extract device settings as CSV files for `Settings Manager` from an XLSX file prepared for the beam envelope controling during the cavity phase scan tuning."
   ]
  },
  {
   "cell_type": "code",
   "execution_count": 1,
   "metadata": {},
   "outputs": [],
   "source": [
    "import xlrd\n",
    "from phantasy import MachinePortal\n",
    "from phantasy import disable_warnings\n",
    "from phantasy_apps.settings_manager.contrib import SettingsRow\n",
    "\n",
    "disable_warnings()"
   ]
  },
  {
   "cell_type": "code",
   "execution_count": 2,
   "metadata": {
    "scrolled": true
   },
   "outputs": [],
   "source": [
    "# input parameters\n",
    "machine = \"FRIB_VA\"\n",
    "segments = [\"MEBT\", \"LS1FS1\"]\n",
    "\n",
    "xlsx_filepath = \"20190212_phase_scan_setting_list_maruta.xlsx\"\n",
    "sheet_name = \"magnets\"\n",
    "row_start = 4\n",
    "column_start = 4\n",
    "settings_rootpath = \"extracted_settings1\""
   ]
  },
  {
   "cell_type": "code",
   "execution_count": 3,
   "metadata": {},
   "outputs": [],
   "source": [
    "wkbk = xlrd.open_workbook(xlsx_filepath)\n",
    "if sheet_name not in wkbk.sheet_names():\n",
    "    raise RuntimeError(\"Cannot find sheet {} from given xlsx file.\".format(sheet_name))\n",
    "magnets_settings = wkbk.sheet_by_name(sheet_name)\n",
    "head_row = magnets_settings.row(1)\n",
    "head_row;"
   ]
  },
  {
   "cell_type": "code",
   "execution_count": 4,
   "metadata": {},
   "outputs": [],
   "source": [
    "mp = MachinePortal(machine, segments[0]);\n",
    "for segm in segments[1:]:\n",
    "    mp.load_lattice(segm)\n",
    "lat = mp.combined_lattice()\n",
    "lat;"
   ]
  },
  {
   "cell_type": "code",
   "execution_count": 5,
   "metadata": {},
   "outputs": [],
   "source": [
    "# get a list of column index of element name and element object.\n",
    "# [(cell index, CaElement)]\n",
    "index_elem_list = []\n",
    "col_idx0 = column_start - 1\n",
    "for i, cell in enumerate(head_row[col_idx0:], col_idx0):\n",
    "    if cell.value == 'STOP':\n",
    "        break\n",
    "    elem = lat.get_elements(name=\"*{}*\".format(cell.value))\n",
    "    if elem:\n",
    "        index_elem_list.append((i, elem[0]))"
   ]
  },
  {
   "cell_type": "code",
   "execution_count": 6,
   "metadata": {},
   "outputs": [
    {
     "name": "stdout",
     "output_type": "stream",
     "text": [
      "Write settings file 04-MEBT-0-0.504.csv\n",
      "Write settings file 05-CA01-1-0.560.csv\n",
      "Write settings file 06-CA01-2-0.623.csv\n",
      "Write settings file 07-CA01-3-0.693.csv\n",
      "Write settings file 08-CA01-4-0.768.csv\n",
      "Write settings file 09-CA02-1-0.850.csv\n",
      "Write settings file 10-CA02-2-0.937.csv\n",
      "Write settings file 11-CA02-3-1.028.csv\n",
      "Write settings file 12-CA02-4-1.119.csv\n",
      "Write settings file 13-CA03-1-1.209.csv\n",
      "Write settings file 14-CA03-2-1.297.csv\n",
      "Write settings file 15-CA03-3-1.384.csv\n",
      "Write settings file 16-CA03-4-1.459.csv\n",
      "Write settings file 17-CB01-1-1.615.csv\n",
      "Write settings file 18-CB01-2-1.791.csv\n",
      "Write settings file 19-CB01-3-1.979.csv\n",
      "Write settings file 20-CB01-4-2.175.csv\n",
      "Write settings file 21-CB01-5-2.378.csv\n",
      "Write settings file 22-CB01-6-2.586.csv\n",
      "Write settings file 23-CB01-7-2.796.csv\n",
      "Write settings file 24-CB01-8-2.998.csv\n",
      "Write settings file 25-CB02-1-3.200.csv\n",
      "Write settings file 26-CB02-2-3.414.csv\n",
      "Write settings file 27-CB02-3-3.628.csv\n",
      "Write settings file 28-CB02-4-3.842.csv\n",
      "Write settings file 29-CB02-5-4.055.csv\n",
      "Write settings file 30-CB02-6-4.267.csv\n",
      "Write settings file 31-CB02-7-4.478.csv\n",
      "Write settings file 32-CB02-8-4.676.csv\n",
      "Write settings file 33-CB03-1-4.873.csv\n",
      "Write settings file 34-CB03-2-5.080.csv\n",
      "Write settings file 35-CB03-3-5.285.csv\n",
      "Write settings file 36-CB03-4-5.489.csv\n",
      "Write settings file 37-CB03-5-5.692.csv\n",
      "Write settings file 38-CB03-6-5.892.csv\n",
      "Write settings file 39-CB03-7-6.092.csv\n",
      "Write settings file 40-CB03-8-6.279.csv\n",
      "Write settings file 41-CB04-1-6.544.csv\n",
      "Write settings file 42-CB04-2-6.821.csv\n",
      "Write settings file 43-CB04-3-7.095.csv\n",
      "Write settings file 44-CB04-4-7.367.csv\n",
      "Write settings file 45-CB04-5-7.635.csv\n",
      "Write settings file 46-CB04-6-7.901.csv\n",
      "Write settings file 47-CB04-7-8.164.csv\n",
      "Write settings file 48-CB04-8-8.411.csv\n",
      "Write settings file 49-CB05-1-8.656.csv\n",
      "Write settings file 50-CB05-2-8.912.csv\n",
      "Write settings file 51-CB05-3-9.166.csv\n",
      "Write settings file 52-CB05-4-9.418.csv\n",
      "Write settings file 53-CB05-5-9.667.csv\n",
      "Write settings file 54-CB05-6-9.915.csv\n",
      "Write settings file 55-CB05-7-10.160.csv\n",
      "Write settings file 56-CB05-8-10.391.csv\n",
      "Write settings file 57-CB06-1-10.619.csv\n",
      "Write settings file 58-CB06-2-10.859.csv\n",
      "Write settings file 59-CB06-3-11.097.csv\n",
      "Write settings file 60-CB06-4-11.333.csv\n",
      "Write settings file 61-CB06-5-11.568.csv\n",
      "Write settings file 62-CB06-6-11.801.csv\n",
      "Write settings file 63-CB06-7-12.032.csv\n",
      "Write settings file 64-CB06-8-12.249.csv\n",
      "Write settings file 65-CB07-1-12.465.csv\n",
      "Write settings file 66-CB07-2-12.692.csv\n",
      "Write settings file 67-CB07-3-12.917.csv\n",
      "Write settings file 68-CB07-4-13.141.csv\n",
      "Write settings file 69-CB07-5-13.363.csv\n",
      "Write settings file 70-CB07-6-13.584.csv\n",
      "Write settings file 71-CB07-7-13.804.csv\n",
      "Write settings file 72-CB07-8-14.010.csv\n",
      "Write settings file 73-CB08-1-14.216.csv\n",
      "Write settings file 74-CB08-2-14.432.csv\n",
      "Write settings file 75-CB08-3-14.647.csv\n",
      "Write settings file 76-CB08-4-14.860.csv\n",
      "Write settings file 77-CB08-5-15.073.csv\n",
      "Write settings file 78-CB08-6-15.284.csv\n",
      "Write settings file 79-CB08-7-15.494.csv\n",
      "Write settings file 80-CB08-8-15.692.csv\n",
      "Write settings file 81-CB09-1-15.888.csv\n",
      "Write settings file 82-CB09-2-16.096.csv\n",
      "Write settings file 83-CB09-3-16.301.csv\n",
      "Write settings file 84-CB09-4-16.506.csv\n",
      "Write settings file 85-CB09-5-16.710.csv\n",
      "Write settings file 86-CB09-6-16.913.csv\n",
      "Write settings file 87-CB09-7-17.116.csv\n",
      "Write settings file 88-CB09-8-17.306.csv\n",
      "Write settings file 89-CB10-1-17.506.csv\n",
      "Write settings file 90-CB10-2-17.715.csv\n",
      "Write settings file 91-CB10-3-17.922.csv\n",
      "Write settings file 92-CB10-4-18.129.csv\n",
      "Write settings file 93-CB10-5-18.335.csv\n",
      "Write settings file 94-CB10-6-18.539.csv\n",
      "Write settings file 95-CB10-7-18.743.csv\n",
      "Write settings file 96-CB10-8-18.937.csv\n",
      "Write settings file 97-CB11-1-19.130.csv\n",
      "Write settings file 98-CB11-2-19.332.csv\n",
      "Write settings file 99-CB11-3-19.332.csv\n",
      "Write settings file 100-CB11-4-19.532.csv\n",
      "Write settings file 101-CB11-5-19.732.csv\n",
      "Write settings file 102-CB11-6-19.931.csv\n",
      "Write settings file 103-CB11-7-20.129.csv\n",
      "Write settings file 104-CB11-8-20.317.csv\n",
      "Write settings file 105-All acceleration-0-20.317.csv\n"
     ]
    }
   ],
   "source": [
    "list_settings_row = []\n",
    "last_settings_row = None\n",
    "for ridx in range(row_start - 1, magnets_settings.nrows):\n",
    "    row = magnets_settings.row(ridx)\n",
    "    current_settings_row = SettingsRow(row, index_elem_list, last_settings_row)\n",
    "    last_settings_row = current_settings_row\n",
    "    current_settings_row.write(rootpath=settings_rootpath, row_id=ridx + 1)"
   ]
  },
  {
   "cell_type": "code",
   "execution_count": null,
   "metadata": {},
   "outputs": [],
   "source": []
  }
 ],
 "metadata": {
  "kernelspec": {
   "display_name": "Python 3",
   "language": "python",
   "name": "python3"
  },
  "language_info": {
   "codemirror_mode": {
    "name": "ipython",
    "version": 3
   },
   "file_extension": ".py",
   "mimetype": "text/x-python",
   "name": "python",
   "nbconvert_exporter": "python",
   "pygments_lexer": "ipython3",
   "version": "3.7.3"
  }
 },
 "nbformat": 4,
 "nbformat_minor": 2
}
