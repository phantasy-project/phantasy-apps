{
 "cells": [
  {
   "cell_type": "markdown",
   "metadata": {},
   "source": [
    "### Extract device settings as CSV files for `Settings Manager` from an XLSX file prepared for the beam envelope controling during the cavity phase scan tuning.\n",
    "\n",
    "sed -i \"s|/user/zhangt/test_phantasy/phantasy-apps/phantasy_apps/settings_manager/contrib/|/files/shared/ap/settings_manager/|\" *.csv"
   ]
  },
  {
   "cell_type": "code",
   "execution_count": 1,
   "metadata": {},
   "outputs": [],
   "source": [
    "import xlrd\n",
    "from phantasy import MachinePortal\n",
    "from phantasy import disable_warnings\n",
    "from phantasy_apps.settings_manager.contrib import SettingsRow\n",
    "\n",
    "disable_warnings()"
   ]
  },
  {
   "cell_type": "code",
   "execution_count": 2,
   "metadata": {
    "scrolled": true
   },
   "outputs": [],
   "source": [
    "# input parameters for LS1 cavity tuning\n",
    "machine = \"FRIB\"\n",
    "segments = [\"MEBT_FS1A\"]\n",
    "\n",
    "xlsx_filepath = \"20200224_phase_scan_setting_list_maruta.xlsx\"\n",
    "sheet_name = \"36Ar10 magnets\"\n",
    "row_start = 4\n",
    "column_start = 4\n",
    "settings_rootpath = \"36Ar10_LS1\"\n",
    "snp_tags = \"LS1-phasing\"\n",
    "snp_machine = \"FRIB\"\n",
    "snp_segment = \"LINAC\"\n",
    "snp_ion_name = \"Ar\"\n",
    "snp_ion_mass = 36\n",
    "snp_ion_charge = 10\n",
    "snp_ion_number = 18\n",
    "snp_user = \"zhangt\"\n",
    "snp_app_name = \"Settings Manager\"\n",
    "snp_app_version = \"4.1\""
   ]
  },
  {
   "cell_type": "code",
   "execution_count": null,
   "metadata": {},
   "outputs": [],
   "source": [
    "# input parameters for LS2 cavity tuning\n",
    "machine = \"FRIB\"\n",
    "segments = [\"MEBT_FS1B\", \"STRIPPER_FS2A\"]\n",
    "\n",
    "xlsx_filepath = \"ARR04_phase_scan_ver20200322.xlsx\"\n",
    "sheet_name = \"129Xe LS2 phase scan magnet\"\n",
    "row_start = 4\n",
    "column_start = 4\n",
    "settings_rootpath = \"129Xe49_LS2\"\n",
    "\n",
    "snp_tags = \"LS2-phasing\"\n",
    "snp_machine = \"FRIB\"\n",
    "snp_segment = \"LINAC\"\n",
    "snp_ion_name = \"Xe\"\n",
    "snp_ion_mass = 129\n",
    "snp_ion_charge = 49\n",
    "snp_ion_number = 54\n",
    "snp_user = \"zhangt\"\n",
    "snp_app_name = \"Settings Manager\"\n",
    "snp_app_version = \"4.1\""
   ]
  },
  {
   "cell_type": "code",
   "execution_count": null,
   "metadata": {},
   "outputs": [],
   "source": [
    "# input parametes for full acceleration cases of 129Xe 27+, MEBT to FS1A (2020-10-05)\n",
    "machine = \"FRIB\"\n",
    "segments = [\"LINAC\"]\n",
    "\n",
    "xlsx_filepath = \"ARR04_2020Oct_ver20201005.xlsx\"\n",
    "sheet_name = \"129Xe27_FS1A\"\n",
    "row_start = 4\n",
    "column_start = 4\n",
    "settings_rootpath = \"129Xe27_50\"\n",
    "\n",
    "snp_tags = \"LS1-phasing\"\n",
    "snp_note = \"Full acceleration 129Xe27+ to 17.0 MeV from MEBT to FS1A\"\n",
    "snp_machine = \"FRIB\"\n",
    "snp_segment = \"LINAC\"\n",
    "snp_ion_name = \"Xe\"\n",
    "snp_ion_mass = 129\n",
    "snp_ion_charge = 27\n",
    "snp_ion_number = 54\n",
    "snp_user = \"zhangt\"\n",
    "snp_app_name = \"Settings Manager\"\n",
    "snp_app_version = \"4.1\""
   ]
  },
  {
   "cell_type": "code",
   "execution_count": null,
   "metadata": {},
   "outputs": [],
   "source": [
    "# input parametes for full acceleration cases of 129Xe 50+ MEBT to FS1B (2020-10-05)\n",
    "machine = \"FRIB\"\n",
    "segments = [\"LINAC\"]\n",
    "\n",
    "xlsx_filepath = \"ARR04_2020Oct_ver20201005.xlsx\"\n",
    "sheet_name = \"129Xe27-50_FS1B\"\n",
    "row_start = 4\n",
    "column_start = 4\n",
    "settings_rootpath = \"129Xe27_50\"\n",
    "\n",
    "snp_tags = \"LS1-phasing\"\n",
    "snp_note = \"Full acceleration 129Xe50+ to 16.5 MeV from MEBT to FS1B\"\n",
    "snp_machine = \"FRIB\"\n",
    "snp_segment = \"LINAC\"\n",
    "snp_ion_name = \"Xe\"\n",
    "snp_ion_mass = 129\n",
    "snp_ion_charge = 50\n",
    "snp_ion_number = 54\n",
    "snp_user = \"zhangt\"\n",
    "snp_app_name = \"Settings Manager\"\n",
    "snp_app_version = \"4.1\""
   ]
  },
  {
   "cell_type": "code",
   "execution_count": 2,
   "metadata": {},
   "outputs": [],
   "source": [
    "# input parametes for full acceleration cases of 129Xe 50+ MEBT to FS2 (2020-10-05)\n",
    "machine = \"FRIB\"\n",
    "segments = [\"LINAC\"]\n",
    "\n",
    "xlsx_filepath = \"ARR04_2020Oct_ver20201005.xlsx\"\n",
    "sheet_name = \"129Xe27-50_FS2\"\n",
    "row_start = 4\n",
    "column_start = 4\n",
    "settings_rootpath = \"129Xe27_50\"\n",
    "\n",
    "snp_tags = \"LS2-phasing\"\n",
    "snp_note = \"Full acceleration 129Xe50+ to 180 MeV from MEBT to FS2\"\n",
    "snp_machine = \"FRIB\"\n",
    "snp_segment = \"LINAC\"\n",
    "snp_ion_name = \"Xe\"\n",
    "snp_ion_mass = 129\n",
    "snp_ion_charge = 50\n",
    "snp_ion_number = 54\n",
    "snp_user = \"zhangt\"\n",
    "snp_app_name = \"Settings Manager\"\n",
    "snp_app_version = \"4.1\""
   ]
  },
  {
   "cell_type": "code",
   "execution_count": 2,
   "metadata": {},
   "outputs": [],
   "source": [
    "# input parametes for full acceleration cases of 129Xe 27+, MEBT to FS1A (2020-10-06)\n",
    "machine = \"FRIB\"\n",
    "segments = [\"LINAC\"]\n",
    "\n",
    "xlsx_filepath = \"/user/zhangt/test_phantasy/phantasy-apps/phantasy_apps/settings_manager/contrib/20201006/ARR04_2020Oct_ver20201006.xlsx\"\n",
    "sheet_name = \"129Xe27_FS1A\"\n",
    "row_start = 4\n",
    "column_start = 4\n",
    "settings_rootpath = \"129Xe27_50-20201006\"\n",
    "\n",
    "snp_tags = \"LS1-phasing\"\n",
    "snp_note = \"Full acceleration 129Xe27+ to 17.0 MeV from MEBT to FS1A, reduced solenoid current\"\n",
    "snp_machine = \"FRIB\"\n",
    "snp_segment = \"LINAC\"\n",
    "snp_ion_name = \"Xe\"\n",
    "snp_ion_mass = 129\n",
    "snp_ion_charge = 27\n",
    "snp_ion_number = 54\n",
    "snp_user = \"zhangt\"\n",
    "snp_app_name = \"Settings Manager\"\n",
    "snp_app_version = \"4.1\""
   ]
  },
  {
   "cell_type": "code",
   "execution_count": 2,
   "metadata": {},
   "outputs": [],
   "source": [
    "# input parametes for full acceleration cases of 129Xe 50+ MEBT to FS1B (2020-10-06)\n",
    "machine = \"FRIB\"\n",
    "segments = [\"LINAC\"]\n",
    "\n",
    "xlsx_filepath = \"/user/zhangt/test_phantasy/phantasy-apps/phantasy_apps/settings_manager/contrib/20201006/ARR04_2020Oct_ver20201006.xlsx\"\n",
    "sheet_name = \"129Xe27-50_FS1B\"\n",
    "row_start = 4\n",
    "column_start = 4\n",
    "settings_rootpath = \"129Xe27_50-20201006\"\n",
    "\n",
    "snp_tags = \"LS1-phasing\"\n",
    "snp_note = \"Full acceleration 129Xe50+ to 16.5 MeV from MEBT to FS1B, reduced solenoid current\"\n",
    "snp_machine = \"FRIB\"\n",
    "snp_segment = \"LINAC\"\n",
    "snp_ion_name = \"Xe\"\n",
    "snp_ion_mass = 129\n",
    "snp_ion_charge = 50\n",
    "snp_ion_number = 54\n",
    "snp_user = \"zhangt\"\n",
    "snp_app_name = \"Settings Manager\"\n",
    "snp_app_version = \"4.1\""
   ]
  },
  {
   "cell_type": "code",
   "execution_count": 2,
   "metadata": {},
   "outputs": [],
   "source": [
    "# input parametes for full acceleration cases of 129Xe 50+ MEBT to FS2 (2020-10-06)\n",
    "machine = \"FRIB\"\n",
    "segments = [\"LINAC\"]\n",
    "\n",
    "xlsx_filepath = \"/user/zhangt/test_phantasy/phantasy-apps/phantasy_apps/settings_manager/contrib/20201006/ARR04_2020Oct_ver20201006.xlsx\"\n",
    "sheet_name = \"129Xe27-50_FS2\"\n",
    "row_start = 4\n",
    "column_start = 4\n",
    "settings_rootpath = \"129Xe27_50-20201006\"\n",
    "\n",
    "snp_tags = \"LS2-phasing\"\n",
    "snp_note = \"Full acceleration 129Xe50+ to 180 MeV from MEBT to FS2, reduced solenoid current\"\n",
    "snp_machine = \"FRIB\"\n",
    "snp_segment = \"LINAC\"\n",
    "snp_ion_name = \"Xe\"\n",
    "snp_ion_mass = 129\n",
    "snp_ion_charge = 50\n",
    "snp_ion_number = 54\n",
    "snp_user = \"zhangt\"\n",
    "snp_app_name = \"Settings Manager\"\n",
    "snp_app_version = \"4.1\""
   ]
  },
  {
   "cell_type": "code",
   "execution_count": 3,
   "metadata": {},
   "outputs": [],
   "source": [
    "wkbk = xlrd.open_workbook(xlsx_filepath)\n",
    "if sheet_name not in wkbk.sheet_names():\n",
    "    raise RuntimeError(\"Cannot find sheet {} from given xlsx file.\".format(sheet_name))\n",
    "magnets_settings = wkbk.sheet_by_name(sheet_name)\n",
    "head_row = magnets_settings.row(1)\n",
    "head_row;"
   ]
  },
  {
   "cell_type": "code",
   "execution_count": 4,
   "metadata": {},
   "outputs": [],
   "source": [
    "mp = MachinePortal(machine, segments[0]);\n",
    "for segm in segments[1:]:\n",
    "    mp.load_lattice(segm)\n",
    "lat = mp.combined_lattice()\n",
    "lat;"
   ]
  },
  {
   "cell_type": "code",
   "execution_count": 5,
   "metadata": {},
   "outputs": [],
   "source": [
    "# get a list of column index of element name and element object.\n",
    "# [(cell index, CaElement)]\n",
    "index_elem_list = []\n",
    "col_idx0 = column_start - 1\n",
    "for i, cell in enumerate(head_row[col_idx0:], col_idx0):\n",
    "    if cell.value == 'STOP':\n",
    "        break\n",
    "    elem = lat.get_elements(name=\"*{}*\".format(cell.value))\n",
    "    if elem:\n",
    "        index_elem_list.append((i, elem[0]))"
   ]
  },
  {
   "cell_type": "code",
   "execution_count": 6,
   "metadata": {
    "scrolled": true
   },
   "outputs": [
    {
     "name": "stdout",
     "output_type": "stream",
     "text": [
      "Write settings file 004-129Xe27+_to_50+-0-180.000.csv\n"
     ]
    }
   ],
   "source": [
    "list_settings_row = []\n",
    "last_settings_row = None\n",
    "for ridx in range(row_start - 1, magnets_settings.nrows):\n",
    "    row = magnets_settings.row(ridx)\n",
    "    current_settings_row = SettingsRow(row, index_elem_list, last_settings_row,\n",
    "                                       ion_name=snp_ion_name, ion_number=snp_ion_number,\n",
    "                                       ion_mass=snp_ion_mass, ion_charge=snp_ion_charge,\n",
    "                                       machine=snp_machine, segment=snp_segment, tags=snp_tags,\n",
    "                                       app=snp_app_name, version=snp_app_version, user=snp_user,\n",
    "                                       note=snp_note)\n",
    "    if not current_settings_row == last_settings_row:\n",
    "        current_settings_row.write(rootpath=settings_rootpath, row_id=ridx + 1)\n",
    "    last_settings_row = current_settings_row"
   ]
  },
  {
   "cell_type": "code",
   "execution_count": null,
   "metadata": {},
   "outputs": [],
   "source": []
  }
 ],
 "metadata": {
  "kernelspec": {
   "display_name": "Python 3",
   "language": "python",
   "name": "python3"
  },
  "language_info": {
   "codemirror_mode": {
    "name": "ipython",
    "version": 3
   },
   "file_extension": ".py",
   "mimetype": "text/x-python",
   "name": "python",
   "nbconvert_exporter": "python",
   "pygments_lexer": "ipython3",
   "version": "3.7.3"
  }
 },
 "nbformat": 4,
 "nbformat_minor": 2
}
