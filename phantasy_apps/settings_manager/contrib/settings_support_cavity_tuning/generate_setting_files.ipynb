{
 "cells": [
  {
   "cell_type": "markdown",
   "metadata": {},
   "source": [
    "### Extract device settings as CSV files for `Settings Manager` from an XLSX file prepared for the beam envelope controling during the cavity phase scan tuning."
   ]
  },
  {
   "cell_type": "code",
   "execution_count": 1,
   "metadata": {},
   "outputs": [],
   "source": [
    "import xlrd\n",
    "from phantasy import MachinePortal\n",
    "from phantasy import disable_warnings\n",
    "from phantasy_apps.settings_manager.contrib import SettingsRow\n",
    "\n",
    "disable_warnings()"
   ]
  },
  {
   "cell_type": "code",
   "execution_count": 2,
   "metadata": {
    "scrolled": true
   },
   "outputs": [],
   "source": [
    "# input parameters for LS1 cavity tuning\n",
    "machine = \"FRIB\"\n",
    "segments = [\"MEBT_FS1A\"]\n",
    "\n",
    "xlsx_filepath = \"20200224_phase_scan_setting_list_maruta.xlsx\"\n",
    "sheet_name = \"36Ar10 magnets\"\n",
    "row_start = 4\n",
    "column_start = 4\n",
    "settings_rootpath = \"extracted_settings_LS1\""
   ]
  },
  {
   "cell_type": "code",
   "execution_count": 2,
   "metadata": {},
   "outputs": [],
   "source": [
    "# input parameters for LS3 cavity tuning\n",
    "machine = \"FRIB\"\n",
    "segments = [\"MEBT_FS1B\", \"STRIPPER_FS2A\"]\n",
    "\n",
    "xlsx_filepath = \"ARR04_phase_scan_ver20200316.xlsx\"\n",
    "sheet_name = \"36Ar LS2 phase scan\"\n",
    "row_start = 4\n",
    "column_start = 4\n",
    "settings_rootpath = \"extracted_settings_LS2\""
   ]
  },
  {
   "cell_type": "code",
   "execution_count": 7,
   "metadata": {},
   "outputs": [],
   "source": [
    "wkbk = xlrd.open_workbook(xlsx_filepath)\n",
    "if sheet_name not in wkbk.sheet_names():\n",
    "    raise RuntimeError(\"Cannot find sheet {} from given xlsx file.\".format(sheet_name))\n",
    "magnets_settings = wkbk.sheet_by_name(sheet_name)\n",
    "head_row = magnets_settings.row(1)\n",
    "head_row;"
   ]
  },
  {
   "cell_type": "code",
   "execution_count": 8,
   "metadata": {},
   "outputs": [],
   "source": [
    "mp = MachinePortal(machine, segments[0]);\n",
    "for segm in segments[1:]:\n",
    "    mp.load_lattice(segm)\n",
    "lat = mp.combined_lattice()\n",
    "lat;"
   ]
  },
  {
   "cell_type": "code",
   "execution_count": 9,
   "metadata": {},
   "outputs": [],
   "source": [
    "# get a list of column index of element name and element object.\n",
    "# [(cell index, CaElement)]\n",
    "index_elem_list = []\n",
    "col_idx0 = column_start - 1\n",
    "for i, cell in enumerate(head_row[col_idx0:], col_idx0):\n",
    "    if cell.value == 'STOP':\n",
    "        break\n",
    "    elem = lat.get_elements(name=\"*{}*\".format(cell.value))\n",
    "    if elem:\n",
    "        index_elem_list.append((i, elem[0]))"
   ]
  },
  {
   "cell_type": "code",
   "execution_count": 10,
   "metadata": {
    "scrolled": true
   },
   "outputs": [
    {
     "name": "stdout",
     "output_type": "stream",
     "text": [
      "Write settings file 04-LS2 Transport-0-19.796.csv\n",
      "Write settings file 11-LS2_CC02-1-23.267.csv\n",
      "Write settings file 29-LS2_CC05-1-38.424.csv\n",
      "Write settings file 77-LS2_CD01-1-80.584.csv\n",
      "Write settings file 173-Full acceleration-0-238.265.csv\n"
     ]
    }
   ],
   "source": [
    "list_settings_row = []\n",
    "last_settings_row = None\n",
    "for ridx in range(row_start - 1, magnets_settings.nrows):\n",
    "    row = magnets_settings.row(ridx)\n",
    "    current_settings_row = SettingsRow(row, index_elem_list, last_settings_row)\n",
    "    if not current_settings_row == last_settings_row:\n",
    "        current_settings_row.write(rootpath=settings_rootpath, row_id=ridx + 1)\n",
    "    last_settings_row = current_settings_row"
   ]
  },
  {
   "cell_type": "code",
   "execution_count": null,
   "metadata": {},
   "outputs": [],
   "source": []
  }
 ],
 "metadata": {
  "kernelspec": {
   "display_name": "Python 3",
   "language": "python",
   "name": "python3"
  },
  "language_info": {
   "codemirror_mode": {
    "name": "ipython",
    "version": 3
   },
   "file_extension": ".py",
   "mimetype": "text/x-python",
   "name": "python",
   "nbconvert_exporter": "python",
   "pygments_lexer": "ipython3",
   "version": "3.7.3"
  }
 },
 "nbformat": 4,
 "nbformat_minor": 2
}
