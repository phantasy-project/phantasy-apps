{
 "cells": [
  {
   "cell_type": "markdown",
   "metadata": {},
   "source": [
    "# Inputs (See instructions below)"
   ]
  },
  {
   "cell_type": "markdown",
   "metadata": {},
   "source": [
    "### For all analysis:"
   ]
  },
  {
   "cell_type": "code",
   "execution_count": 1,
   "metadata": {},
   "outputs": [],
   "source": [
    "## Beam parameter\n",
    "A_ion = 39.948\n",
    "Q_ion = 9\n",
    "KE_per_u = 12e3  # eV/u\n",
    "\n",
    "## Online or Offline use\n",
    "perform_scan = False    # True for real-time scan, False for offline data analysis\n",
    "data_file = 'FE_LEBT_ASx_D0739_20190222_123444_RawData.out'          # Must input data_file if perform_scan = False\n",
    "\n",
    "beamline = 'artemis'    # artemis or venus\n",
    "\n",
    "## Post-processing parameters\n",
    "threshold_sigma = 2     # Threshold = noise_avg + threshold_sigma*noise_sd\n",
    "noise_gradient = True   # Whether to perform voltage-dependent noise removal\n",
    "correction = 'Weight'   # 'Weight' or 'PhaseSpace', correction scheme for transmission ratio"
   ]
  },
  {
   "cell_type": "markdown",
   "metadata": {},
   "source": [
    "### Performing scan only:"
   ]
  },
  {
   "cell_type": "code",
   "execution_count": 2,
   "metadata": {},
   "outputs": [],
   "source": [
    "x_or_y = 'x'            # Select scan direction. Horizontal: x, Vertical: y\n",
    "\n",
    "## Scan Setup\n",
    "position_range = [-15, 25, 1.]     # min, max, step size; typical x-range: -15 to 25   ; typical y-range: -15 to 25\n",
    "voltage_range = [-500, 500, 20]    # min, max, step size; typical x-range: -500 to 500 ; typical y-range: -500 to 500"
   ]
  },
  {
   "cell_type": "markdown",
   "metadata": {},
   "source": [
    "### Checklist\n",
    "#### First Check ion A and Q\n",
    "#### - Offline analysis: set perform_scan = False, specify data_file\n",
    "#### - Performing scan: set perform_scan = True, select scanner direction and specify scan ranges\n",
    "\n",
    "### After setting inputs, run all cells (Top Menu Bar: \"Kernel\" > \"Restart & Run All\")"
   ]
  },
  {
   "cell_type": "markdown",
   "metadata": {},
   "source": [
    "# Scanning & Analysis"
   ]
  },
  {
   "cell_type": "code",
   "execution_count": 3,
   "metadata": {},
   "outputs": [],
   "source": [
    "if not perform_scan:\n",
    "    assert data_file != ''"
   ]
  },
  {
   "cell_type": "markdown",
   "metadata": {},
   "source": [
    "### Import Scripts & Notebook Setup"
   ]
  },
  {
   "cell_type": "code",
   "execution_count": 4,
   "metadata": {},
   "outputs": [],
   "source": [
    "if perform_scan:\n",
    "    import sys\n",
    "    sys.path.append('/files/shared/ap/phyapp_notebooks')\n",
    "    \n",
    "    from datetime import datetime\n",
    "    time = datetime.now().strftime(\"%Y%m%d_%H%M%S\")\n",
    "\n",
    "import AllisonScannerAnalysis"
   ]
  },
  {
   "cell_type": "code",
   "execution_count": 5,
   "metadata": {},
   "outputs": [],
   "source": [
    "%matplotlib inline"
   ]
  },
  {
   "cell_type": "markdown",
   "metadata": {},
   "source": [
    "### Set Up Artemis Model"
   ]
  },
  {
   "cell_type": "code",
   "execution_count": 6,
   "metadata": {},
   "outputs": [
    {
     "name": "stdout",
     "output_type": "stream",
     "text": [
      "Voltage-angle conversion: 100V -> 8.8486 mrad\n"
     ]
    }
   ],
   "source": [
    "scanner = AllisonScannerAnalysis.FribASModel(beamline = beamline,\n",
    "                                             A_ion = A_ion,\n",
    "                                             Q_ion = Q_ion,\n",
    "                                             KE_per_u = KE_per_u)\n",
    "\n",
    "print('Voltage-angle conversion: 100V -> %.4f mrad' % (scanner.xp_from_V(100)[1]*1000))"
   ]
  },
  {
   "cell_type": "markdown",
   "metadata": {},
   "source": [
    "### Perform Scan"
   ]
  },
  {
   "cell_type": "code",
   "execution_count": 7,
   "metadata": {},
   "outputs": [],
   "source": [
    "if perform_scan:\n",
    "    \n",
    "    dict_name = beamline + '_' + x_or_y\n",
    "    pv_dict = AllisonScannerAnalysis.pv_dict[dict_name]\n",
    "    \n",
    "    scan = AllisonScannerAnalysis.ASScan(pos = position_range, \n",
    "                                         vol = voltage_range, \n",
    "                                         x_or_y = x_or_y, \n",
    "                                         pv_dict = pv_dict,\n",
    "                                         time = time)"
   ]
  },
  {
   "cell_type": "markdown",
   "metadata": {},
   "source": [
    "### Data Analysis"
   ]
  },
  {
   "cell_type": "code",
   "execution_count": null,
   "metadata": {},
   "outputs": [],
   "source": [
    "if perform_scan:\n",
    "    data_grid = AllisonScannerAnalysis.ASGridFRIB(perform_scan = True, \n",
    "                                                  live_data = scan.output_data, \n",
    "                                                  time = time)\n",
    "else:\n",
    "    data_grid = AllisonScannerAnalysis.ASGridFRIB(perform_scan = False, \n",
    "                                                  data_file = data_file)"
   ]
  },
  {
   "cell_type": "code",
   "execution_count": null,
   "metadata": {},
   "outputs": [
    {
     "data": {
      "image/png": "[encoded data removed]",
      "text/plain": [
       "<Figure size 540x288 with 2 Axes>"
      ]
     },
     "metadata": {
      "needs_background": "light"
     },
     "output_type": "display_data"
    },
    {
     "data": {
      "image/png": "[encoded data removed]",
      "text/plain": [
       "<Figure size 540x288 with 2 Axes>"
      ]
     },
     "metadata": {
      "needs_background": "light"
     },
     "output_type": "display_data"
    },
    {
     "name": "stdout",
     "output_type": "stream",
     "text": [
      "x_cen = 12.402737615441744 mm\n",
      "xp_cen = 9.893335605127678 mrad\n",
      "x_rms = 4.101499764832173 mm\n",
      "xxp = 14.287823056173533 mm-mrad\n",
      "xp_rms = 5.010673486910687 mrad\n",
      "x_emit_normalized = 0.07498108908098303 mm-mrad\n",
      "alpha = -0.967220940811758 \n",
      "beta = 1.1387935782131784 m\n",
      "gamma = 1.6996200060960125 1/m\n",
      "total projected current = 31.99220699692518 A\n"
     ]
    }
   ],
   "source": [
    "scan_analysis = AllisonScannerAnalysis.ASData(scanner = scanner,\n",
    "                              I_grid = data_grid.I_grid,\n",
    "                              X_grid = data_grid.X_grid,\n",
    "                              V_grid = data_grid.V_grid,\n",
    "                              name = data_grid.name,\n",
    "                              threshold_sigma = threshold_sigma,\n",
    "                              noise_gradient = noise_gradient,\n",
    "                              correction = correction)"
   ]
  },
  {
   "cell_type": "code",
   "execution_count": null,
   "metadata": {},
   "outputs": [],
   "source": [
    "AllisonScannerAnalysis.save_output(perform_scan = perform_scan, \n",
    "            results = scan_analysis.parameters_dict, \n",
    "            name = data_grid.name)"
   ]
  },
  {
   "cell_type": "markdown",
   "metadata": {},
   "source": [
    "### Reset Scanner"
   ]
  },
  {
   "cell_type": "code",
   "execution_count": null,
   "metadata": {
    "scrolled": false
   },
   "outputs": [],
   "source": [
    "if perform_scan:\n",
    "    AllisonScannerAnalysis.ASReset(pv_dict = pv_dict)"
   ]
  }
 ],
 "metadata": {
  "kernelspec": {
   "display_name": "Python 3",
   "language": "python",
   "name": "python3"
  },
  "language_info": {
   "codemirror_mode": {
    "name": "ipython",
    "version": 3
   },
   "file_extension": ".py",
   "mimetype": "text/x-python",
   "name": "python",
   "nbconvert_exporter": "python",
   "pygments_lexer": "ipython3",
   "version": "3.7.1"
  }
 },
 "nbformat": 4,
 "nbformat_minor": 2
}
